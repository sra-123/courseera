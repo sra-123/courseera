{
  "nbformat": 4,
  "nbformat_minor": 0,
  "metadata": {
    "colab": {
      "provenance": [],
      "authorship_tag": "ABX9TyPbWw7PiKxhIoZ4Ld+Uy2sR",
      "include_colab_link": true
    },
    "kernelspec": {
      "name": "python3",
      "display_name": "Python 3"
    },
    "language_info": {
      "name": "python"
    }
  },
  "cells": [
    {
      "cell_type": "markdown",
      "metadata": {
        "id": "view-in-github",
        "colab_type": "text"
      },
      "source": [
        "<a href=\"https://colab.research.google.com/github/sra-123/courseera/blob/main/Untitled24.ipynb\" target=\"_parent\"><img src=\"https://colab.research.google.com/assets/colab-badge.svg\" alt=\"Open In Colab\"/></a>"
      ]
    },
    {
      "cell_type": "markdown",
      "source": [
        "EXERCISES"
      ],
      "metadata": {
        "id": "5pFcG5WogdvG"
      }
    },
    {
      "cell_type": "markdown",
      "source": [
        "INTRODUCTION"
      ],
      "metadata": {
        "id": "aFWujGragi0i"
      }
    },
    {
      "cell_type": "markdown",
      "source": [
        "List Of Data Science Languages\n",
        "\n",
        "*   Python\n",
        "*   R\n",
        "*   SQL\n",
        "*   Java\n",
        "*   Julia\n",
        "*   Scala\n",
        "*   Java Script\n",
        "*   c/c++\n",
        "\n",
        "\n",
        "\n",
        "\n",
        "\n",
        "\n",
        "\n"
      ],
      "metadata": {
        "id": "GT-Zx_y4goBl"
      }
    },
    {
      "cell_type": "markdown",
      "source": [
        "List Of Data Science Libraries\n",
        "\n",
        "1.   Tensorflow\n",
        "2.   pyTorch\n",
        "3.   scikit-learn\n",
        "4.   Theano\n",
        "5.   Pandas\n",
        "6.   Numpy\n",
        "7.   Matplotlib\n",
        "\n"
      ],
      "metadata": {
        "id": "oxNFbY1JhVA9"
      }
    },
    {
      "cell_type": "markdown",
      "source": [
        "Data Science Tools\n",
        "\n",
        "1.Apache Spark\n",
        "\n",
        "2.Julia\n",
        "\n",
        "3.Jupyter Notebook\n",
        "\n",
        "4.Matlab\n",
        "\n",
        "5.Matplotlib\n",
        "\n",
        "6.NumPy\n",
        "\n",
        "6.Pandas\n",
        "\n",
        "7.python"
      ],
      "metadata": {
        "id": "oT77Y9ANiQO6"
      }
    },
    {
      "cell_type": "code",
      "source": [
        "(1+1)"
      ],
      "metadata": {
        "colab": {
          "base_uri": "https://localhost:8080/"
        },
        "id": "UTnc9eGWjErp",
        "outputId": "bd4d95d1-2991-4b7e-dba0-83e19f0b2b90"
      },
      "execution_count": 1,
      "outputs": [
        {
          "output_type": "execute_result",
          "data": {
            "text/plain": [
              "2"
            ]
          },
          "metadata": {},
          "execution_count": 1
        }
      ]
    },
    {
      "cell_type": "code",
      "source": [
        "print(1*2)\n",
        "print(3+4)"
      ],
      "metadata": {
        "colab": {
          "base_uri": "https://localhost:8080/"
        },
        "id": "tTLEapYqjK08",
        "outputId": "fdd13581-4276-4ed3-e199-b8c8743a12ed"
      },
      "execution_count": 2,
      "outputs": [
        {
          "output_type": "stream",
          "name": "stdout",
          "text": [
            "2\n",
            "7\n"
          ]
        }
      ]
    },
    {
      "cell_type": "code",
      "source": [
        "#x is in minutes\n",
        "x=30\n",
        "print(x/60)#in hours\n"
      ],
      "metadata": {
        "colab": {
          "base_uri": "https://localhost:8080/"
        },
        "id": "6oKiIzL3jQYU",
        "outputId": "ee93b3d6-1e51-4fbf-f428-7be084878182"
      },
      "execution_count": 3,
      "outputs": [
        {
          "output_type": "stream",
          "name": "stdout",
          "text": [
            "0.5\n"
          ]
        }
      ]
    },
    {
      "cell_type": "markdown",
      "source": [
        "LIST OBJECTIVES\n",
        "\n",
        "to explore\n",
        "sort and analyze megadata from various sources in order to take advantage of them \n",
        " reach conclusions to optimize business processes or for decision support."
      ],
      "metadata": {
        "id": "Fzv4z-NSkYfU"
      }
    },
    {
      "cell_type": "markdown",
      "source": [
        "Authors Name\n",
        "\n",
        "1.Data Science from Scratch: First Principles with Python\n",
        "2. Data Science For Dummies-Lillian Pierson\n",
        "3.Designing Data-Intensive Applications-Martin Kleppmann\n",
        "4.Big Data: A Revolution That Will Transform How We Live, Work, and Think-Viktor Mayer-Schönberger\n",
        "5. Storytelling with Data: A Data Visualization Guide for Business Professionals-Cole Nussbaumer Knaflic\n"
      ],
      "metadata": {
        "id": "AUch06Rbka8K"
      }
    }
  ]
}